{
  "nbformat": 4,
  "nbformat_minor": 0,
  "metadata": {
    "colab": {
      "name": "Untitled2.ipynb",
      "provenance": [],
      "authorship_tag": "ABX9TyNrsgFPozPJbLDxLDi0ZRa+",
      "include_colab_link": true
    },
    "kernelspec": {
      "name": "python3",
      "display_name": "Python 3"
    },
    "language_info": {
      "name": "python"
    }
  },
  "cells": [
    {
      "cell_type": "markdown",
      "metadata": {
        "id": "view-in-github",
        "colab_type": "text"
      },
      "source": [
        "<a href=\"https://colab.research.google.com/github/AuraMoon55/compressor/blob/main/Untitled2.ipynb\" target=\"_parent\"><img src=\"https://colab.research.google.com/assets/colab-badge.svg\" alt=\"Open In Colab\"/></a>"
      ]
    },
    {
      "cell_type": "code",
      "execution_count": null,
      "metadata": {
        "id": "icDgPjf0g0WO",
        "colab": {
          "base_uri": "https://localhost:8080/"
        },
        "outputId": "1b543911-cbe9-46ec-a60e-c130075067f0"
      },
      "outputs": [
        {
          "output_type": "execute_result",
          "data": {
            "text/plain": [
              "0"
            ]
          },
          "metadata": {},
          "execution_count": 1
        }
      ],
      "source": [
        "import os\n",
        "import glob\n",
        "os.system(\"pip install wget\")"
      ]
    },
    {
      "cell_type": "markdown",
      "source": [
        "installing requirements Above"
      ],
      "metadata": {
        "id": "Sme7nWqxja5b"
      }
    },
    {
      "cell_type": "code",
      "source": [
        "import os, glob\n",
        "from urllib.parse import unquote\n",
        "\n",
        "def get_files():\n",
        "  files = glob.glob('/content/*')\n",
        "  files.remove('/content/sample_data')\n",
        "  return files\n",
        "\n",
        "def download_file(file_link):\n",
        "  os.system(f\"wget {file_link}\")\n",
        "\n",
        "def compress(input_path, output_path):\n",
        "  return os.system(f'ffmpeg -i \"{input_path}\" -preset ultrafast -c:v libx265 -crf 27 -map 0:v -c:a aac -map 0:a -c:s copy -map 0:s? \"{output_path}\" -y')\n",
        "\n",
        "def tglinkdl(link):\n",
        "  download_file(link)\n",
        "  name = (link.split(\"/\")[-2] if link[-1] == \"/\" else link.split(\"/\")[-1])\n",
        "  new_name = name.split(\"?\")[0]\n",
        "  new_name = unquote(new_name)\n",
        "  new_name = new_name.replace(\"+\",\" \")\n",
        "  file = get_files()[0]\n",
        "  os.rename(file, new_name)\n",
        "  name = new_name\n",
        "  new_name = name[-7:]\n",
        "  compress(name, new_name)\n",
        "  os.remove(name)\n",
        "\n",
        "tglinkdl(\"https://tgdirectlinkgen.herokuapp.com/2959/%5BIAS%5D+Bastard%21+Heavy+Metal%2C+Dark+Fantasy-01_%28720p%29.mkv?hash=AgADFQ\")"
      ],
      "metadata": {
        "id": "cziMiRvwjiwz"
      },
      "execution_count": null,
      "outputs": []
    }
  ]
}