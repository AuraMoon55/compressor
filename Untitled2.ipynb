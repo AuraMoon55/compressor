{
  "nbformat": 4,
  "nbformat_minor": 0,
  "metadata": {
    "colab": {
      "name": "Untitled2.ipynb",
      "provenance": [],
      "authorship_tag": "ABX9TyPTdKJRxuqh9OARSbxUgzZ6",
      "include_colab_link": true
    },
    "kernelspec": {
      "name": "python3",
      "display_name": "Python 3"
    },
    "language_info": {
      "name": "python"
    }
  },
  "cells": [
    {
      "cell_type": "markdown",
      "metadata": {
        "id": "view-in-github",
        "colab_type": "text"
      },
      "source": [
        "<a href=\"https://colab.research.google.com/github/AuraMoon55/compressor/blob/main/Untitled2.ipynb\" target=\"_parent\"><img src=\"https://colab.research.google.com/assets/colab-badge.svg\" alt=\"Open In Colab\"/></a>"
      ]
    },
    {
      "cell_type": "code",
      "execution_count": 1,
      "metadata": {
        "id": "icDgPjf0g0WO",
        "colab": {
          "base_uri": "https://localhost:8080/"
        },
        "outputId": "1b543911-cbe9-46ec-a60e-c130075067f0"
      },
      "outputs": [
        {
          "output_type": "execute_result",
          "data": {
            "text/plain": [
              "0"
            ]
          },
          "metadata": {},
          "execution_count": 1
        }
      ],
      "source": [
        "import os\n",
        "import glob\n",
        "os.system(\"pip install wget\")"
      ]
    },
    {
      "cell_type": "markdown",
      "source": [
        "installing requirements Above"
      ],
      "metadata": {
        "id": "Sme7nWqxja5b"
      }
    },
    {
      "cell_type": "code",
      "source": [
        "import os, glob\n",
        "\n",
        "def get_files():\n",
        "  files = glob.glob('/content/*')\n",
        "  files.remove('/content/sample_data')\n",
        "  return files\n",
        "\n",
        "def download_file(file_link):\n",
        "  os.system(f\"wget {file_link}\")"
      ],
      "metadata": {
        "id": "cziMiRvwjiwz"
      },
      "execution_count": 3,
      "outputs": []
    }
  ]
}